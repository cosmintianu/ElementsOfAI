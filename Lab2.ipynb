{
  "nbformat": 4,
  "nbformat_minor": 0,
  "metadata": {
    "colab": {
      "provenance": [],
      "authorship_tag": "ABX9TyPjEdxCuGZvfCvv1bMzNezg",
      "include_colab_link": true
    },
    "kernelspec": {
      "name": "python3",
      "display_name": "Python 3"
    },
    "language_info": {
      "name": "python"
    }
  },
  "cells": [
    {
      "cell_type": "markdown",
      "metadata": {
        "id": "view-in-github",
        "colab_type": "text"
      },
      "source": [
        "<a href=\"https://colab.research.google.com/github/cosmintianu/ElementsOfAI/blob/main/Lab2.ipynb\" target=\"_parent\"><img src=\"https://colab.research.google.com/assets/colab-badge.svg\" alt=\"Open In Colab\"/></a>"
      ]
    },
    {
      "cell_type": "code",
      "execution_count": null,
      "metadata": {
        "id": "SXWpnrnhGgiF",
        "colab": {
          "base_uri": "https://localhost:8080/"
        },
        "outputId": "1d770882-6ec3-4d5a-8667-d47bb0c59740"
      },
      "outputs": [
        {
          "output_type": "stream",
          "name": "stdout",
          "text": [
            "Shortest path from A to F: ['A', 'C', 'F']\n"
          ]
        }
      ],
      "source": [
        "from collections import deque\n",
        "\n",
        "graph = {\n",
        "    \"A\": [\"B\", \"C\"],\n",
        "    \"B\": [\"D\", \"E\"],\n",
        "    \"C\": [\"F\"],\n",
        "    \"D\": [],\n",
        "    \"E\": [\"F\"],\n",
        "    \"F\": []\n",
        "}\n",
        "\n",
        "def bfs_shortest_path(graph, start, goal) :\n",
        "  queue = deque ([[start]])\n",
        "  visited = set()\n",
        "\n",
        "  while queue:\n",
        "    path = queue.popleft()\n",
        "    node = path[-1]\n",
        "\n",
        "    if node in visited:\n",
        "      continue\n",
        "    visited.add(node)\n",
        "\n",
        "    if node == goal:\n",
        "      return path\n",
        "\n",
        "    for neighbor in graph.get(node, []):\n",
        "      new_path = list(path)\n",
        "      new_path.append(neighbor)\n",
        "      queue.append(new_path)\n",
        "\n",
        "  return None\n",
        "\n",
        "start_node = \"A\"\n",
        "goal_node = \"F\"\n",
        "print(f\"Shortest path from {start_node} to {goal_node}: {bfs_shortest_path(graph,start_node,goal_node)}\")"
      ]
    },
    {
      "cell_type": "code",
      "source": [
        "def dfs(graph, start, visited = None) :\n",
        "  if visited is None:\n",
        "    visited = []\n",
        "\n",
        "  visited.append(start)\n",
        "  # print(start)\n",
        "\n",
        "  for neighbor in graph.get(start, []):\n",
        "    if neighbor not in visited:\n",
        "      dfs(graph, neighbor, visited)\n",
        "\n",
        "  return visited\n",
        "\n",
        "print(f\"Shortest path from {start_node} to {goal_node}: {dfs(graph,start_node)}\")"
      ],
      "metadata": {
        "colab": {
          "base_uri": "https://localhost:8080/"
        },
        "id": "-Y86t5mBuUTC",
        "outputId": "e7b90083-f08c-485e-add7-8bb6103d7061"
      },
      "execution_count": null,
      "outputs": [
        {
          "output_type": "stream",
          "name": "stdout",
          "text": [
            "Shortest path from A to F: ['A', 'B', 'D', 'E', 'F', 'C']\n"
          ]
        }
      ]
    },
    {
      "cell_type": "code",
      "source": [],
      "metadata": {
        "id": "7yAtdrnU8BRz"
      },
      "execution_count": null,
      "outputs": []
    }
  ]
}