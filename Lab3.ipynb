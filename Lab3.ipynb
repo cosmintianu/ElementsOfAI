{
  "nbformat": 4,
  "nbformat_minor": 0,
  "metadata": {
    "colab": {
      "provenance": [],
      "authorship_tag": "ABX9TyM0Fl1V36QDYivQFyt7rJwv",
      "include_colab_link": true
    },
    "kernelspec": {
      "name": "python3",
      "display_name": "Python 3"
    },
    "language_info": {
      "name": "python"
    }
  },
  "cells": [
    {
      "cell_type": "markdown",
      "metadata": {
        "id": "view-in-github",
        "colab_type": "text"
      },
      "source": [
        "<a href=\"https://colab.research.google.com/github/cosmintianu/ElementsOfAI/blob/main/Lab3.ipynb\" target=\"_parent\"><img src=\"https://colab.research.google.com/assets/colab-badge.svg\" alt=\"Open In Colab\"/></a>"
      ]
    },
    {
      "cell_type": "code",
      "execution_count": 7,
      "metadata": {
        "colab": {
          "base_uri": "https://localhost:8080/"
        },
        "id": "1CZe3Uag6A8d",
        "outputId": "36703535-f10e-4532-a1b4-8d5272fed377"
      },
      "outputs": [
        {
          "output_type": "stream",
          "name": "stdout",
          "text": [
            "Optimal value for MAX: 6\n",
            "Optimal value for MAX: 3\n",
            "Optimal value for MAX: 2\n"
          ]
        }
      ],
      "source": [
        "game_tree = {\n",
        "    \"root\": {\"A\": {\"C\": 3, \"D\": 5}, \"B\": {\"E\": 6, \"F\": 9}}\n",
        "}\n",
        "\n",
        "def minimax(node, is_max):\n",
        "    if isinstance(node, int):\n",
        "        return node\n",
        "\n",
        "    best_value = float('-inf') if is_max else float('inf')\n",
        "\n",
        "    for child in node.values():\n",
        "        child_value = minimax(child, not is_max)\n",
        "        if is_max:\n",
        "            best_value = max(best_value, child_value)\n",
        "        else:\n",
        "            best_value = min(best_value, child_value)\n",
        "\n",
        "    return best_value\n",
        "\n",
        "optimal_value = minimax(game_tree[\"root\"], is_max=True)\n",
        "print(f\"Optimal value for MAX: {optimal_value}\")\n",
        "\n",
        "#Task 3\n",
        "game_tree2 = {\n",
        "\"root\": {\"A\": {\"C\": 1, \"D\": 2}, \"B\": {\"E\": 6, \"F\": 3}}\n",
        "}\n",
        "optimal_value = minimax(game_tree2[\"root\"], is_max=True)\n",
        "print(f\"Optimal value for MAX: {optimal_value}\")\n",
        "\n",
        "game_tree3 = {\n",
        "    \"root\": {\"A\": {\"C\": 7, \"D\": 2}, \"B\": {\"E\": 1, \"F\": 4}}\n",
        "}\n",
        "optimal_value = minimax(game_tree3[\"root\"], is_max=True)\n",
        "print(f\"Optimal value for MAX: {optimal_value}\")\n"
      ]
    },
    {
      "cell_type": "markdown",
      "source": [
        "Task 1 answers:\n",
        "  1. When all terminal nodes have the same utility value, the Minimax algorithm will return the utility value as the optimal value, regardless of the structure or depth of the tree. This occurs because every path through the tree leads to the same outcome, so the players' decisions do not affect the result.\n",
        "  2.It will still go down all the leaves and only on the return of the recursive calls will select the winner which would be MAX.\n",
        "  3.The role of recursion is to go down the game tree up to the leaves. If it reaches a leaf, it returns the utility value, in the other case it selects the min or the max depending on whose turn is it.\n",
        "\n",
        "  \n"
      ],
      "metadata": {
        "id": "Y1Yz303SEMcU"
      }
    },
    {
      "cell_type": "code",
      "source": [
        "game_tree = {\n",
        "'A': ['B', 'C'],\n",
        "'B': ['D', 'E'],\n",
        "'C': ['F', 'G'],\n",
        "'D': [], 'E': [], 'F': [], 'G': []\n",
        "}\n",
        "terminal_values = {\n",
        "'D': 3, 'E': 5,\n",
        "'F': 6, 'G': 9\n",
        "}\n",
        "\n",
        "def alpha_beta_pruning(node, depth, alpha, beta, maximizing_player):\n",
        "    if node in terminal_values:\n",
        "        return terminal_values[node]\n",
        "\n",
        "    if maximizing_player:\n",
        "        max_eval = float('-inf')\n",
        "        for child in game_tree[node]:\n",
        "            eval = alpha_beta_pruning(child, depth + 1, alpha, beta, False)\n",
        "            max_eval = max(max_eval, eval)\n",
        "            alpha = max(alpha, eval)\n",
        "            if beta <= alpha:\n",
        "                break\n",
        "        return max_eval\n",
        "    else:\n",
        "        min_eval = float('inf')\n",
        "        for child in game_tree[node]:\n",
        "            eval = alpha_beta_pruning(child, depth + 1, alpha, beta, True)\n",
        "            min_eval = min(min_eval, eval)\n",
        "            beta = min(beta, eval)\n",
        "            if beta <= alpha:\n",
        "                break\n",
        "        return min_eval\n",
        "\n",
        "optimal_value = alpha_beta_pruning('A', 0, float('-inf'), float('inf'), True)\n",
        "print(f\"The optimal value is: {optimal_value}\")\n"
      ],
      "metadata": {
        "colab": {
          "base_uri": "https://localhost:8080/"
        },
        "id": "qY8zL5GDKaCG",
        "outputId": "2b24f850-5f96-46e8-bdd1-bb0d9b28e9cc"
      },
      "execution_count": 8,
      "outputs": [
        {
          "output_type": "stream",
          "name": "stdout",
          "text": [
            "The optimal value is: 6\n"
          ]
        }
      ]
    }
  ]
}