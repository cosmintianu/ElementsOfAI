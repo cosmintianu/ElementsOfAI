{
  "nbformat": 4,
  "nbformat_minor": 0,
  "metadata": {
    "colab": {
      "provenance": [],
      "authorship_tag": "ABX9TyOixASGGouXgWLGzgUULbgx",
      "include_colab_link": true
    },
    "kernelspec": {
      "name": "python3",
      "display_name": "Python 3"
    },
    "language_info": {
      "name": "python"
    }
  },
  "cells": [
    {
      "cell_type": "markdown",
      "metadata": {
        "id": "view-in-github",
        "colab_type": "text"
      },
      "source": [
        "<a href=\"https://colab.research.google.com/github/cosmintianu/ElementsOfAI/blob/main/lab2.ipynb\" target=\"_parent\"><img src=\"https://colab.research.google.com/assets/colab-badge.svg\" alt=\"Open In Colab\"/></a>"
      ]
    },
    {
      "cell_type": "code",
      "execution_count": null,
      "metadata": {
        "id": "SXWpnrnhGgiF",
        "colab": {
          "base_uri": "https://localhost:8080/"
        },
        "outputId": "aea48145-49a3-4536-a226-5e4df28bfbad"
      },
      "outputs": [
        {
          "output_type": "stream",
          "name": "stdout",
          "text": [
            "deque([['A']])\n",
            "deque([['A', 'B'], ['A', 'C']])\n",
            "deque([['A', 'C'], ['A', 'B', 'D'], ['A', 'B', 'E']])\n",
            "deque([['A', 'B', 'D'], ['A', 'B', 'E'], ['A', 'C', 'F']])\n",
            "deque([['A', 'B', 'E'], ['A', 'C', 'F']])\n",
            "deque([['A', 'C', 'F'], ['A', 'B', 'E', 'F']])\n",
            "Shortest path from A to F: ['A', 'C', 'F']\n"
          ]
        }
      ],
      "source": [
        "from collections import deque\n",
        "\n",
        "graph = {\n",
        "    \"A\": [\"B\", \"C\"],\n",
        "    \"B\": [\"D\", \"E\"],\n",
        "    \"C\": [\"F\"],\n",
        "    \"D\": [],\n",
        "    \"E\": [\"F\"],\n",
        "    \"F\": []\n",
        "}\n",
        "\n",
        "def bfs_shortest_path(graph, start, goal) :\n",
        "  queue = deque ([[start]])\n",
        "  visited = set()\n",
        "\n",
        "  while queue:\n",
        "    print(queue)\n",
        "    path = queue.popleft()\n",
        "    node = path[-1]\n",
        "\n",
        "    if node in visited:\n",
        "      continue\n",
        "    visited.add(node)\n",
        "\n",
        "    if node == goal:\n",
        "      return path\n",
        "\n",
        "    for neighbor in graph.get(node, []):\n",
        "      new_path = list(path)\n",
        "      new_path.append(neighbor)\n",
        "      queue.append(new_path)\n",
        "\n",
        "  return None\n",
        "\n",
        "start_node = \"A\"\n",
        "goal_node = \"F\"\n",
        "print(f\"Shortest path from {start_node} to {goal_node}: {bfs_shortest_path(graph,start_node,goal_node)}\")"
      ]
    },
    {
      "cell_type": "code",
      "source": [
        "def dfs(graph, start, visited = None) :\n",
        "  if visited is None:\n",
        "    visited = []\n",
        "\n",
        "  visited.append(start)\n",
        "  # print(start)\n",
        "\n",
        "  for neighbor in graph.get(start, []):\n",
        "    if neighbor not in visited:\n",
        "      dfs(graph, neighbor, visited)\n",
        "\n",
        "  return visited\n",
        "\n",
        "print(f\"Shortest path from {start_node} to {goal_node}: {dfs(graph,start_node)}\")"
      ],
      "metadata": {
        "colab": {
          "base_uri": "https://localhost:8080/"
        },
        "id": "-Y86t5mBuUTC",
        "outputId": "b6e33b8b-52cf-43fe-fbb7-47a357b14ae9"
      },
      "execution_count": null,
      "outputs": [
        {
          "output_type": "stream",
          "name": "stdout",
          "text": [
            "Shortest path from A to F: ['A', 'B', 'D', 'E', 'F', 'C']\n"
          ]
        }
      ]
    },
    {
      "cell_type": "code",
      "source": [
        "import heapq\n",
        "w_graph = {\n",
        "    \"A\": [(\"B\", 1), (\"C\", 4)],\n",
        "    \"B\": [(\"D\", 2), (\"E\", 5)],\n",
        "    \"C\": [(\"F\", 3)],\n",
        "    \"D\": [(\"F\", 1)],\n",
        "    \"E\": [(\"F\", 2)],\n",
        "    \"F\": []\n",
        "}\n",
        "\n",
        "h = {\"A\": 7, \"B\": 6, \"C\": 2, \"D\": 1, \"E\": 2, \"F\": 0}\n",
        "\n",
        "def A_star(graph, start, goal, h):\n",
        "    open_list = []\n",
        "    heapq.heappush(open_list, (h[start], start))\n",
        "\n",
        "    g_cost = {node: float('inf') for node in graph}\n",
        "    g_cost[start] = 0\n",
        "\n",
        "    came_from = {}\n",
        "\n",
        "    while open_list:\n",
        "        # print(open_list)\n",
        "        # print(came_from)\n",
        "        current_f_cost, current_node = heapq.heappop(open_list)\n",
        "\n",
        "        if current_node == goal:\n",
        "            path = []\n",
        "            while current_node in came_from:\n",
        "                path.append(current_node)\n",
        "                current_node = came_from[current_node]\n",
        "            path.append(start)\n",
        "            path.reverse()\n",
        "            return path, g_cost[goal]\n",
        "\n",
        "        for neighbor, weight in graph[current_node]:\n",
        "            tentative_g_cost = g_cost[current_node] + weight\n",
        "\n",
        "            if tentative_g_cost < g_cost[neighbor]:\n",
        "                g_cost[neighbor] = tentative_g_cost\n",
        "                f_cost = tentative_g_cost + h[neighbor]\n",
        "                heapq.heappush(open_list, (f_cost, neighbor))\n",
        "                came_from[neighbor] = current_node\n",
        "\n",
        "    return None, float('inf')\n",
        "\n",
        "path, cost = A_star(w_graph, \"A\", \"F\", h)\n",
        "print(\"Path:\", path)\n",
        "print(\"Cost:\", cost)"
      ],
      "metadata": {
        "id": "7yAtdrnU8BRz",
        "colab": {
          "base_uri": "https://localhost:8080/"
        },
        "outputId": "26d2efd2-1f8b-4659-8788-60ba8947d3a9"
      },
      "execution_count": null,
      "outputs": [
        {
          "output_type": "stream",
          "name": "stdout",
          "text": [
            "Path: ['A', 'B', 'D', 'F']\n",
            "Cost: 4\n"
          ]
        }
      ]
    },
    {
      "cell_type": "code",
      "source": [
        "graph2 = {\n",
        "    \"A\": [(\"B\", 1), (\"C\", 1)],\n",
        "    \"B\": [(\"D\", 1)],\n",
        "    \"C\": [(\"D\", 1), (\"E\", 1)],\n",
        "    \"D\": [],\n",
        "    \"E\": [(\"F\", 1), (\"G\", 1)],\n",
        "    \"F\": [],\n",
        "    \"G\": []\n",
        "}\n",
        "\n",
        "h2 = {\n",
        "    \"A\": 4,\n",
        "    \"B\": 3,\n",
        "    \"C\": 3,\n",
        "    \"D\": 2,\n",
        "    \"E\": 2,\n",
        "    \"F\": 0,\n",
        "    \"G\": 1\n",
        "}\n",
        "\n",
        "def bfs_shortest_path_weighted(graph, start, goal) :\n",
        "  queue = deque ([[start]])\n",
        "  visited = set()\n",
        "\n",
        "  while queue:\n",
        "    # print(queue)\n",
        "    path = queue.popleft()\n",
        "    node = path[-1]\n",
        "\n",
        "    if node in visited:\n",
        "      continue\n",
        "    visited.add(node)\n",
        "\n",
        "    if node == goal:\n",
        "      return path\n",
        "\n",
        "    for neighbor in graph.get(node, []):\n",
        "      # print(neighbor)\n",
        "      new_path = list(path)\n",
        "      new_path.append(neighbor[0])\n",
        "      queue.append(new_path)\n",
        "\n",
        "  return None\n",
        "\n",
        "start = \"A\"\n",
        "goal = \"F\"\n",
        "print(f\"Shortest path from {start_node} to {goal_node} with BFS: { bfs_shortest_path_weighted(graph2 , start, goal)}\")\n",
        "\n",
        "path, cost = A_star(graph2, \"A\", \"F\", h2)\n",
        "print(\"Shortest path from A to F with A*: \", path)\n",
        "# print(\"Cost:\", cost)\n"
      ],
      "metadata": {
        "id": "U5HBKdxmkrOY",
        "outputId": "ee4d38d3-aff0-45cc-a060-c206da830f8b",
        "colab": {
          "base_uri": "https://localhost:8080/"
        }
      },
      "execution_count": null,
      "outputs": [
        {
          "output_type": "stream",
          "name": "stdout",
          "text": [
            "Shortest path from A to F with BFS: ['A', 'C', 'E', 'F']\n",
            "Shortest path from A to F with A*:  ['A', 'C', 'E', 'F']\n"
          ]
        }
      ]
    },
    {
      "cell_type": "code",
      "source": [],
      "metadata": {
        "id": "8P1lUMMUJSI_"
      },
      "execution_count": null,
      "outputs": []
    }
  ]
}